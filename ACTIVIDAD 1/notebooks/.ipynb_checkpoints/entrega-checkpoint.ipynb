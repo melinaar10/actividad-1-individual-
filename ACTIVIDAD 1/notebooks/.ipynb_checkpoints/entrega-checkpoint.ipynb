{
 "cells": [
  {
   "cell_type": "code",
   "execution_count": null,
   "id": "c50025af",
   "metadata": {
    "vscode": {
     "languageId": "plaintext"
    }
   },
   "outputs": [],
   "source": [
    "from src.acumulados import inicializar_acumulados, actualizar_acumulados\n",
    "from src.evaluacion import mejor_equipo_ronda\n",
    "from src.resultados import mostrar_tabla, equipos_sin_errores, top_2_equipos"
   ]
  },
  {
   "cell_type": "code",
   "execution_count": null,
   "id": "004968e7",
   "metadata": {
    "vscode": {
     "languageId": "plaintext"
    }
   },
   "outputs": [],
   "source": [
    "# Datos de entrada: rondas de evaluación\n",
    "evaluaciones = [\n",
    "    { 'EquipoA': {'innovacion': 2, 'presentacion': 1, 'errores': True},\n",
    "      'EquipoB': {'innovacion': 1, 'presentacion': 0, 'errores': False},\n",
    "      'EquipoC': {'innovacion': 1, 'presentacion': 2, 'errores': True},\n",
    "      'EquipoD': {'innovacion': 0, 'presentacion': 1, 'errores': False},\n",
    "      'EquipoE': {'innovacion': 1, 'presentacion': 1, 'errores': False} },\n",
    "\n",
    "    { 'EquipoA': {'innovacion': 0, 'presentacion': 2, 'errores': False},\n",
    "      'EquipoB': {'innovacion': 2, 'presentacion': 0, 'errores': True},\n",
    "      'EquipoC': {'innovacion': 1, 'presentacion': 1, 'errores': False},\n",
    "      'EquipoD': {'innovacion': 2, 'presentacion': 1, 'errores': True},\n",
    "      'EquipoE': {'innovacion': 0, 'presentacion': 1, 'errores': False} },\n",
    "\n",
    "    { 'EquipoA': {'innovacion': 3, 'presentacion': 2, 'errores': False},\n",
    "      'EquipoB': {'innovacion': 1, 'presentacion': 1, 'errores': True},\n",
    "      'EquipoC': {'innovacion': 2, 'presentacion': 0, 'errores': False},\n",
    "      'EquipoD': {'innovacion': 1, 'presentacion': 3, 'errores': True},\n",
    "      'EquipoE': {'innovacion': 2, 'presentacion': 2, 'errores': False} },\n",
    "\n",
    "    { 'EquipoA': {'innovacion': 1, 'presentacion': 3, 'errores': True},\n",
    "      'EquipoB': {'innovacion': 2, 'presentacion': 2, 'errores': False},\n",
    "      'EquipoC': {'innovacion': 3, 'presentacion': 1, 'errores': False},\n",
    "      'EquipoD': {'innovacion': 0, 'presentacion': 2, 'errores': True},\n",
    "      'EquipoE': {'innovacion': 2, 'presentacion': 0, 'errores': False} },\n",
    "\n",
    "    { 'EquipoA': {'innovacion': 2, 'presentacion': 2, 'errores': False},\n",
    "      'EquipoB': {'innovacion': 1, 'presentacion': 3, 'errores': True},\n",
    "      'EquipoC': {'innovacion': 0, 'presentacion': 2, 'errores': False},\n",
    "      'EquipoD': {'innovacion': 3, 'presentacion': 1, 'errores': False},\n",
    "      'EquipoE': {'innovacion': 2, 'presentacion': 3, 'errores': True} }\n",
    "]\n"
   ]
  },
  {
   "cell_type": "code",
   "execution_count": null,
   "id": "6c239286",
   "metadata": {
    "vscode": {
     "languageId": "plaintext"
    }
   },
   "outputs": [],
   "source": [
    "# Inicializar acumulados\n",
    "acum = inicializar_acumulados(evaluaciones)\n",
    "\n",
    "# Procesar cada ronda\n",
    "for i, ronda in enumerate(evaluaciones, start=1):\n",
    "    mejor = mejor_equipo_ronda(ronda)      # (nombre, puntaje)\n",
    "    actualizar_acumulados(acum, ronda, mejor[0])\n",
    "    mostrar_tabla(acum, i, mejor)"
   ]
  },
  {
   "cell_type": "code",
   "execution_count": null,
   "id": "717e9527",
   "metadata": {
    "vscode": {
     "languageId": "plaintext"
    }
   },
   "outputs": [],
   "source": [
    "# Equipos sin errores\n",
    "print(\"\\nEquipos sin errores en ninguna ronda:\")\n",
    "print(equipos_sin_errores(acum))\n",
    "\n",
    "# Top 2 equipos finales\n",
    "print(\"\\nTop 2 equipos finales:\")\n",
    "for nombre, puntos in top_2_equipos(acum):\n",
    "    print(f\"{nombre}: {puntos} puntos\")"
   ]
  }
 ],
 "metadata": {
  "language_info": {
   "name": "python"
  }
 },
 "nbformat": 4,
 "nbformat_minor": 5
}
