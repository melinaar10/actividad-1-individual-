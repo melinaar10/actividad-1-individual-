{
 "cells": [
  {
   "cell_type": "code",
   "execution_count": 4,
   "id": "c50025af",
   "metadata": {
    "vscode": {
     "languageId": "plaintext"
    }
   },
   "outputs": [],
   "source": [
    "from src.acumulados import inicializar_acumulados, actualizar_acumulados\n",
    "from src.evaluacion import mejor_equipo_ronda\n",
    "from src.resultados import mostrar_tabla, equipos_sin_errores, top_2_equipos"
   ]
  },
  {
   "cell_type": "code",
   "execution_count": 5,
   "id": "004968e7",
   "metadata": {
    "vscode": {
     "languageId": "plaintext"
    }
   },
   "outputs": [],
   "source": [
    "# Datos de entrada: rondas de evaluación\n",
    "evaluaciones = [\n",
    "    { 'EquipoA': {'innovacion': 2, 'presentacion': 1, 'errores': True},\n",
    "      'EquipoB': {'innovacion': 1, 'presentacion': 0, 'errores': False},\n",
    "      'EquipoC': {'innovacion': 1, 'presentacion': 2, 'errores': True},\n",
    "      'EquipoD': {'innovacion': 0, 'presentacion': 1, 'errores': False},\n",
    "      'EquipoE': {'innovacion': 1, 'presentacion': 1, 'errores': False} },\n",
    "\n",
    "    { 'EquipoA': {'innovacion': 0, 'presentacion': 2, 'errores': False},\n",
    "      'EquipoB': {'innovacion': 2, 'presentacion': 0, 'errores': True},\n",
    "      'EquipoC': {'innovacion': 1, 'presentacion': 1, 'errores': False},\n",
    "      'EquipoD': {'innovacion': 2, 'presentacion': 1, 'errores': True},\n",
    "      'EquipoE': {'innovacion': 0, 'presentacion': 1, 'errores': False} },\n",
    "\n",
    "    { 'EquipoA': {'innovacion': 3, 'presentacion': 2, 'errores': False},\n",
    "      'EquipoB': {'innovacion': 1, 'presentacion': 1, 'errores': True},\n",
    "      'EquipoC': {'innovacion': 2, 'presentacion': 0, 'errores': False},\n",
    "      'EquipoD': {'innovacion': 1, 'presentacion': 3, 'errores': True},\n",
    "      'EquipoE': {'innovacion': 2, 'presentacion': 2, 'errores': False} },\n",
    "\n",
    "    { 'EquipoA': {'innovacion': 1, 'presentacion': 3, 'errores': True},\n",
    "      'EquipoB': {'innovacion': 2, 'presentacion': 2, 'errores': False},\n",
    "      'EquipoC': {'innovacion': 3, 'presentacion': 1, 'errores': False},\n",
    "      'EquipoD': {'innovacion': 0, 'presentacion': 2, 'errores': True},\n",
    "      'EquipoE': {'innovacion': 2, 'presentacion': 0, 'errores': False} },\n",
    "\n",
    "    { 'EquipoA': {'innovacion': 2, 'presentacion': 2, 'errores': False},\n",
    "      'EquipoB': {'innovacion': 1, 'presentacion': 3, 'errores': True},\n",
    "      'EquipoC': {'innovacion': 0, 'presentacion': 2, 'errores': False},\n",
    "      'EquipoD': {'innovacion': 3, 'presentacion': 1, 'errores': False},\n",
    "      'EquipoE': {'innovacion': 2, 'presentacion': 3, 'errores': True} }\n",
    "]\n"
   ]
  },
  {
   "cell_type": "code",
   "execution_count": 6,
   "id": "6c239286",
   "metadata": {
    "vscode": {
     "languageId": "plaintext"
    }
   },
   "outputs": [
    {
     "name": "stdout",
     "output_type": "stream",
     "text": [
      "\n",
      "-------------------------------------------\n",
      "Ronda 1\n",
      "Mejor Equipo de la Ronda: EquipoA (7 puntos)\n",
      "-------------------------------------------\n",
      "Equipo     Innovación  Presentación  Errores  Mejores  Total\n",
      "EquipoA         2            1          1       1       6   \n",
      "EquipoC         1            2          1       0       4   \n",
      "EquipoE         1            1          0       0       4   \n",
      "EquipoB         1            0          0       0       3   \n",
      "EquipoD         0            1          0       0       1   \n",
      "\n",
      "-------------------------------------------\n",
      "Ronda 2\n",
      "Mejor Equipo de la Ronda: EquipoD (7 puntos)\n",
      "-------------------------------------------\n",
      "Equipo     Innovación  Presentación  Errores  Mejores  Total\n",
      "EquipoA         2            3          1       1       8   \n",
      "EquipoB         3            0          1       0       8   \n",
      "EquipoC         2            3          1       0       8   \n",
      "EquipoD         2            2          1       1       7   \n",
      "EquipoE         1            2          0       0       5   \n",
      "\n",
      "-------------------------------------------\n",
      "Ronda 3\n",
      "Mejor Equipo de la Ronda: EquipoA (11 puntos)\n",
      "-------------------------------------------\n",
      "Equipo     Innovación  Presentación  Errores  Mejores  Total\n",
      "EquipoA         5            5          1       2       19  \n",
      "EquipoC         4            3          1       0       14  \n",
      "EquipoE         3            4          0       0       13  \n",
      "EquipoD         3            5          2       1       12  \n",
      "EquipoB         4            1          2       0       11  \n",
      "\n",
      "-------------------------------------------\n",
      "Ronda 4\n",
      "Mejor Equipo de la Ronda: EquipoC (10 puntos)\n",
      "-------------------------------------------\n",
      "Equipo     Innovación  Presentación  Errores  Mejores  Total\n",
      "EquipoA         6            8          2       2       24  \n",
      "EquipoC         7            4          1       1       24  \n",
      "EquipoB         6            3          2       0       19  \n",
      "EquipoE         5            4          0       0       19  \n",
      "EquipoD         3            7          3       1       13  \n",
      "\n",
      "-------------------------------------------\n",
      "Ronda 5\n",
      "Mejor Equipo de la Ronda: EquipoD (10 puntos)\n",
      "-------------------------------------------\n",
      "Equipo     Innovación  Presentación  Errores  Mejores  Total\n",
      "EquipoA         8           10          2       2       32  \n",
      "EquipoE         7            7          1       0       27  \n",
      "EquipoC         7            6          1       1       26  \n",
      "EquipoB         7            6          3       0       24  \n",
      "EquipoD         6            8          3       2       23  \n"
     ]
    }
   ],
   "source": [
    "# Inicializar acumulados\n",
    "acum = inicializar_acumulados(evaluaciones)\n",
    "\n",
    "# Procesar cada ronda\n",
    "for i, ronda in enumerate(evaluaciones, start=1):\n",
    "    mejor = mejor_equipo_ronda(ronda)      # (nombre, puntaje)\n",
    "    actualizar_acumulados(acum, ronda, mejor[0])\n",
    "    mostrar_tabla(acum, i, mejor)"
   ]
  },
  {
   "cell_type": "code",
   "execution_count": 8,
   "id": "717e9527",
   "metadata": {
    "vscode": {
     "languageId": "plaintext"
    }
   },
   "outputs": [
    {
     "name": "stdout",
     "output_type": "stream",
     "text": [
      "\n",
      "Equipos sin errores en ninguna ronda:\n",
      "[]\n",
      "\n",
      "Top 2 equipos finales:\n",
      "EquipoA: 32 puntos\n",
      "EquipoE: 27 puntos\n"
     ]
    }
   ],
   "source": [
    "# Equipos sin errores\n",
    "print(\"\\nEquipos sin errores en ninguna ronda:\")\n",
    "print(equipos_sin_errores(acum))\n",
    "\n",
    "# Top 2 equipos finales\n",
    "print(\"\\nTop 2 equipos finales:\")\n",
    "for nombre, puntos in top_2_equipos(acum):\n",
    "    print(f\"{nombre}: {puntos} puntos\")"
   ]
  },
  {
   "cell_type": "code",
   "execution_count": null,
   "id": "69dab614-1ee1-432b-937e-b4bf081d730a",
   "metadata": {},
   "outputs": [],
   "source": []
  }
 ],
 "metadata": {
  "kernelspec": {
   "display_name": "Python 3 (ipykernel)",
   "language": "python",
   "name": "python3"
  },
  "language_info": {
   "codemirror_mode": {
    "name": "ipython",
    "version": 3
   },
   "file_extension": ".py",
   "mimetype": "text/x-python",
   "name": "python",
   "nbconvert_exporter": "python",
   "pygments_lexer": "ipython3",
   "version": "3.13.7"
  }
 },
 "nbformat": 4,
 "nbformat_minor": 5
}
